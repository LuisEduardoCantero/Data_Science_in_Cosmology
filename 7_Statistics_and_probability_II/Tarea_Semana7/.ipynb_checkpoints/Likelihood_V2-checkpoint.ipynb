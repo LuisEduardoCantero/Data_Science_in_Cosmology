{
 "cells": [
  {
   "cell_type": "code",
   "execution_count": 1,
   "metadata": {},
   "outputs": [],
   "source": [
    "import numpy as np\n",
    "import emcee\n",
    "import matplotlib.pyplot as plt\n",
    "import scipy.stats as st\n",
    "import math\n",
    "import random\n",
    "import scipy.optimize as op\n",
    "import corner\n",
    "plt.style.use('classic')"
   ]
  },
  {
   "cell_type": "markdown",
   "metadata": {},
   "source": [
    "Definimos la funcion original, los parametros de esta funcion seran los que se desean buscar con la maximizacion del likelihood"
   ]
  },
  {
   "cell_type": "code",
   "execution_count": 65,
   "metadata": {},
   "outputs": [],
   "source": [
    "a = 3\n",
    "b = 2\n",
    "n = 15\n",
    "xor = np.linspace(0,2,15)\n",
    "yor = a*xor + b"
   ]
  },
  {
   "cell_type": "code",
   "execution_count": 66,
   "metadata": {},
   "outputs": [],
   "source": [
    "def line(x, m, b):\n",
    "    return(m*x + b)"
   ]
  },
  {
   "cell_type": "markdown",
   "metadata": {},
   "source": [
    "#### Graficamos un conjuntp de datos"
   ]
  },
  {
   "cell_type": "code",
   "execution_count": 67,
   "metadata": {},
   "outputs": [
    {
     "data": {
      "text/plain": [
       "<matplotlib.collections.PathCollection at 0x7f475111a358>"
      ]
     },
     "execution_count": 67,
     "metadata": {},
     "output_type": "execute_result"
    },
    {
     "data": {
      "image/png": "[encoded data removed]",
      "text/plain": [
       "<Figure size 432x288 with 1 Axes>"
      ]
     },
     "metadata": {},
     "output_type": "display_data"
    }
   ],
   "source": [
    "\n",
    "plt.plot(xor,line(xor,3,2), color='green')\n",
    "plt.scatter(xor, yor, color='red')"
   ]
  },
  {
   "cell_type": "markdown",
   "metadata": {},
   "source": [
    "Se crea un vector de errores con un sigma de 2"
   ]
  },
  {
   "cell_type": "code",
   "execution_count": 68,
   "metadata": {},
   "outputs": [],
   "source": [
    "sigma = 0.2\n",
    "error = np.random.uniform(low=-sigma, high=sigma, size=15)"
   ]
  },
  {
   "cell_type": "code",
   "execution_count": 69,
   "metadata": {},
   "outputs": [
    {
     "data": {
      "text/plain": [
       "array([-0.12152399, -0.10213233, -0.12932139,  0.00210017, -0.07546484,\n",
       "       -0.16129658,  0.14959731, -0.11698763, -0.10789761, -0.11232333,\n",
       "       -0.13445558,  0.15210496, -0.11772593,  0.15777759, -0.1817743 ])"
      ]
     },
     "execution_count": 69,
     "metadata": {},
     "output_type": "execute_result"
    }
   ],
   "source": [
    "error"
   ]
  },
  {
   "cell_type": "markdown",
   "metadata": {},
   "source": [
    "Se crea un conjunto de datos similar a la funcion original pero simulando un error en las mediciones"
   ]
  },
  {
   "cell_type": "code",
   "execution_count": 70,
   "metadata": {},
   "outputs": [],
   "source": [
    "data = yor + error"
   ]
  },
  {
   "cell_type": "code",
   "execution_count": 71,
   "metadata": {},
   "outputs": [
    {
     "data": {
      "text/plain": [
       "<function matplotlib.pyplot.show(*args, **kw)>"
      ]
     },
     "execution_count": 71,
     "metadata": {},
     "output_type": "execute_result"
    },
    {
     "data": {
      "image/png": "[encoded data removed]",
      "text/plain": [
       "<Figure size 432x288 with 1 Axes>"
      ]
     },
     "metadata": {},
     "output_type": "display_data"
    }
   ],
   "source": [
    "fig, ax = plt.subplots()\n",
    "ax.errorbar(xor, data, yerr=error,fmt='o', c='red')\n",
    "plt.plot(xor, yor, c='blue', label='ORIGINAL')\n",
    "plt.xlabel('X')\n",
    "plt.ylabel('Y')\n",
    "plt.show"
   ]
  },
  {
   "cell_type": "markdown",
   "metadata": {},
   "source": [
    "Se crean algunas funciones que serviran posteriormente para analizar los resultados"
   ]
  },
  {
   "cell_type": "code",
   "execution_count": 72,
   "metadata": {},
   "outputs": [],
   "source": [
    "# Se define la funcion quemar para el burning de datos. Se ingresa el porcentaje a quemar\n",
    "def quemar(x, porcentaje):\n",
    "    p = porcentaje/100\n",
    "    x2 = x[int(len(x)*p):]\n",
    "    return x2\n",
    "\n",
    "def quemar2(x, y, porcentaje):\n",
    "    p = porcentaje/100\n",
    "    x2 = x[int(len(x)*p):]\n",
    "    y2 = y[int(len(y)*p):]\n",
    "    return x2,y2\n",
    "\n",
    "# Se define una funcion para determinar la media de los datos quemados\n",
    "\n",
    "def quemaymedia(x, porcentaje):\n",
    "    p = porcentaje/100\n",
    "    x2 = np.mean(x[int(len(x)*p):])\n",
    "    return x2\n"
   ]
  },
  {
   "cell_type": "markdown",
   "metadata": {},
   "source": [
    "Se crea la funcion para maximizar el likelihood y evaluar las cadenas de Markov"
   ]
  },
  {
   "cell_type": "code",
   "execution_count": 73,
   "metadata": {},
   "outputs": [],
   "source": [
    "def lnlh(theta):\n",
    "    modelo=line(xor, theta[0],theta[1]) # Se evalua el modelo en todos los datos independientes o 'x' del experimento\n",
    "    diferencia2 = (data - modelo)**2 # Se compara el modelo con los datos y se obtiene el cuadrado de la diferencia\n",
    "    sigma2 = error ** 2 # Se obtiene sigma^2 (vector)\n",
    "    u = -0.5 * np.sum(diferencia2/sigma2) #Se multiplica por -1/2 y se suman los valores\n",
    "    return u\n",
    "\n",
    "def lnlh2(theta):\n",
    "    modelo=line(xor, theta[0],theta[1]) # Se evalua el modelo en todos los datos independientes o 'x' del experimento\n",
    "    diferencia = data - modelo # Se compara el modelo con los datos\n",
    "    u=0\n",
    "    u = np.dot(diferencia, 0.2) # Se multiplica la diferencia por la matriz de covarianza\n",
    "    u = np.dot(u,diferencia.T) # Se multiplica el valor pasado por la diferencia\n",
    "    u = -0.5 * np.sum(u) #Se multiplica por -1/2 y se suman los valores\n",
    "    return u\n",
    "\n",
    "def Markov(theta1, thetap): # Se ingresa con un punto inicial y con un punto de prueba\n",
    "    p1 = lnlh(theta1) # Se evalua el likelihood para el primer punto\n",
    "    pp = lnlh(thetap) # Se evalua el likelihood para el segundo punto\n",
    "    if(pp>p1): # Se acepta el nuevo punto si el likelihood es mayor al punto anterior\n",
    "        return thetap\n",
    "    else: #Si es menor, segenera un punto aleatorio entre 0 y 1\n",
    "        w = np.random.rand()\n",
    "        if(pp-p1>np.log(w)): # Si la diferencia entre los likelihoods del nuevo punto menos el punto antorior es mayor al\n",
    "                            # aleatorio, se acepta el nuevo punto\n",
    "            return thetap\n",
    "        else:\n",
    "            return theta1 # Si no es mayor, se rechaza y se genera otro punto en otra cadena\n",
    "    return\n"
   ]
  },
  {
   "cell_type": "markdown",
   "metadata": {},
   "source": [
    "Se corre el algoritmo para diferentes cadenas, se realizan suficientes pruebas hasta obtener un total de 10000 caminadores"
   ]
  },
  {
   "cell_type": "code",
   "execution_count": 74,
   "metadata": {},
   "outputs": [],
   "source": [
    "Nmuestras = 10000 # Se establece el numero de muestras en cada cadena\n",
    "sigma1 = 0.1 # Se estblece una desviacion estandar para el primer parametro\n",
    "sigma2 = 0.1 # Se establece una desviacion estandar para el segundo parametro\n",
    "\n",
    "Ncadenas = 5 # Se establece el numero de cadenas\n",
    "cadenas = [] # Se declara la cadena para poder almacenar datos en ella posteriormente\n",
    "\n",
    "puntoinicio = [5,0.1] # Punto de inicio para la primer cadena\n",
    "for j in range(Ncadenas):\n",
    "    puntoinicio = np.array([np.random.normal(np.random.uniform(5, 2), sigma1),\n",
    "    np.random.normal(puntoinicio[1], sigma2)]) # Con esto se garantiza que las cadenas comenzaran en puntos diferentes\n",
    "    for i in range(Nmuestras):\n",
    "        if i==0:\n",
    "            cadena = puntoinicio # Si es la primer muestra se acepta automaticamente y se guarda\n",
    "        else:\n",
    "            puntoprueba = np.array([np.random.normal(puntoinicio[0], sigma1), # Se genera un punto aleatorio de prueba \n",
    "            np.random.normal(puntoinicio[1], sigma2)]) # alrededor del punto anterior con desviacion sigma1\n",
    "            puntonuevo = Markov(puntoinicio, puntoprueba) #se usa la cadena de Markov para aceptar o rechazar el nuvo punto\n",
    "            cadena = np.vstack((cadena, puntonuevo)) #Se guarda el punto que se queda como \"bueno\"\n",
    "            puntoinicio = puntonuevo # Se establece el nuevo punto de inicio para la cadena\n",
    "    if j==0:\n",
    "        cadenas = cadena # Si es la primer muestra se acepta automaticamente y se guarda\n",
    "    else:\n",
    "        cadenas = np.vstack((cadenas, cadena)) # Se guardan todas las cadenas en un solo arreglo"
   ]
  },
  {
   "cell_type": "markdown",
   "metadata": {},
   "source": [
    "Se hace una separacion de cada cadena\n"
   ]
  },
  {
   "cell_type": "code",
   "execution_count": 75,
   "metadata": {},
   "outputs": [],
   "source": [
    "x1 = cadenas[0:Nmuestras,0]\n",
    "y1 = cadenas[0:Nmuestras,1]\n",
    "x2 = cadenas[Nmuestras+1:Nmuestras*2,0]\n",
    "y2 = cadenas[Nmuestras+1:Nmuestras*2,1]\n",
    "x3 = cadenas[2*Nmuestras+1:Nmuestras*3,0]\n",
    "y3 = cadenas[2*Nmuestras+1:Nmuestras*3,1]\n",
    "x4 = cadenas[3*Nmuestras+1:Nmuestras*4,0]\n",
    "y4 = cadenas[3*Nmuestras+1:Nmuestras*4,1]\n",
    "x5 = cadenas[4*Nmuestras+1:Nmuestras*5,0]\n",
    "y5 = cadenas[4*Nmuestras+1:Nmuestras*5,1]\n",
    "x6 = cadenas[5*Nmuestras+1:Nmuestras*6,0]\n",
    "y6 = cadenas[5*Nmuestras+1:Nmuestras*6,1]\n",
    "x7 = cadenas[6*Nmuestras+1:Nmuestras*7,0]\n",
    "y7 = cadenas[6*Nmuestras+1:Nmuestras*7,1]\n",
    "x8 = cadenas[7*Nmuestras+1:Nmuestras*8,0]\n",
    "y8 = cadenas[7*Nmuestras+1:Nmuestras*8,1]"
   ]
  },
  {
   "cell_type": "code",
   "execution_count": 76,
   "metadata": {},
   "outputs": [
    {
     "data": {
      "text/plain": [
       "10000"
      ]
     },
     "execution_count": 76,
     "metadata": {},
     "output_type": "execute_result"
    }
   ],
   "source": [
    "len(x1)"
   ]
  },
  {
   "cell_type": "code",
   "execution_count": 77,
   "metadata": {},
   "outputs": [
    {
     "data": {
      "text/plain": [
       "<matplotlib.collections.PathCollection at 0x7f4751078470>"
      ]
     },
     "execution_count": 77,
     "metadata": {},
     "output_type": "execute_result"
    },
    {
     "data": {
      "image/png": "[encoded data removed]",
      "text/plain": [
       "<Figure size 432x288 with 1 Axes>"
      ]
     },
     "metadata": {},
     "output_type": "display_data"
    }
   ],
   "source": [
    "plt.scatter(x8, y8, color = 'w',s=1)\n",
    "plt.scatter(x1, y1, color = 'g',s=1)\n",
    "plt.scatter(x2, y2, color = 'r',s=1)\n",
    "plt.scatter(x3, y3, color = 'y',s=1)\n",
    "plt.scatter(x4, y4, color = 'b',s=1)\n",
    "plt.scatter(x5, y5, color = 'c',s=1)\n",
    "plt.scatter(x6, y6, color = 'm',s=1)\n",
    "plt.scatter(x7, y7, color = 'k',s=1)\n"
   ]
  },
  {
   "cell_type": "code",
   "execution_count": 79,
   "metadata": {},
   "outputs": [
    {
     "data": {
      "text/plain": [
       "<matplotlib.legend.Legend at 0x7f4750ea47f0>"
      ]
     },
     "execution_count": 79,
     "metadata": {},
     "output_type": "execute_result"
    },
    {
     "data": {
      "image/png": "[encoded data removed]",
      "text/plain": [
       "<Figure size 432x288 with 1 Axes>"
      ]
     },
     "metadata": {},
     "output_type": "display_data"
    }
   ],
   "source": [
    "nb = 8\n",
    "burning = 50 # porcentaje a quemar\n",
    "\n",
    "plt.hist(quemar(x1, burning), alpha = 0.4, label = 'W_1', bins=nb)\n",
    "plt.hist(quemar(x2, burning), alpha = 0.4, label = 'W_2', bins=nb)\n",
    "plt.hist(quemar(x3, burning), alpha = 0.4, label = 'W_3', bins=nb)\n",
    "plt.hist(quemar(x4, burning), alpha = 0.4, label = 'W_4', bins=nb)\n",
    "plt.hist(quemar(x5, burning), alpha = 0.4, label = 'W_5', bins=nb)\n",
    "plt.hist(quemar(x6, burning), alpha = 0.4, label = 'W_6', bins=nb)\n",
    "plt.hist(quemar(x7, burning), alpha = 0.4, label = 'W_7', bins=nb)\n",
    "plt.hist(quemar(x8, burning), alpha = 0.4, label = 'W_8', bins=nb)\n",
    "\n",
    "plt.legend()"
   ]
  },
  {
   "cell_type": "code",
   "execution_count": 80,
   "metadata": {},
   "outputs": [
    {
     "data": {
      "text/plain": [
       "<matplotlib.legend.Legend at 0x7f4750dc2128>"
      ]
     },
     "execution_count": 80,
     "metadata": {},
     "output_type": "execute_result"
    },
    {
     "data": {
      "image/png": "[encoded data removed]",
      "text/plain": [
       "<Figure size 432x288 with 1 Axes>"
      ]
     },
     "metadata": {},
     "output_type": "display_data"
    }
   ],
   "source": [
    "nb = 8\n",
    "burning = 50 # porcentaje a quemar\n",
    "\n",
    "plt.hist(quemar(y1, burning), alpha = 0.4, label = 'W_1', bins=nb)\n",
    "plt.hist(quemar(y2, burning), alpha = 0.4, label = 'W_2', bins=nb)\n",
    "plt.hist(quemar(y3, burning), alpha = 0.4, label = 'W_3', bins=nb)\n",
    "plt.hist(quemar(y4, burning), alpha = 0.4, label = 'W_4', bins=nb)\n",
    "plt.hist(quemar(y5, burning), alpha = 0.4, label = 'W_5', bins=nb)\n",
    "plt.hist(quemar(y6, burning), alpha = 0.4, label = 'W_6', bins=nb)\n",
    "plt.hist(quemar(y7, burning), alpha = 0.4, label = 'W_7', bins=nb)\n",
    "plt.hist(quemar(y8, burning), alpha = 0.4, label = 'W_8', bins=nb)\n",
    "\n",
    "plt.legend()"
   ]
  },
  {
   "cell_type": "markdown",
   "metadata": {},
   "source": [
    "### Valores medios para camiandor con los datos quemados"
   ]
  },
  {
   "cell_type": "markdown",
   "metadata": {},
   "source": [
    "#### Valores para 'a'"
   ]
  },
  {
   "cell_type": "code",
   "execution_count": 15,
   "metadata": {},
   "outputs": [],
   "source": [
    "bur = 60 # Porcentaje de datos a quemar"
   ]
  },
  {
   "cell_type": "code",
   "execution_count": 16,
   "metadata": {},
   "outputs": [
    {
     "data": {
      "text/plain": [
       "3.002837750163382"
      ]
     },
     "execution_count": 16,
     "metadata": {},
     "output_type": "execute_result"
    }
   ],
   "source": [
    "a1=quemaymedia(x1, bur)\n",
    "a1"
   ]
  },
  {
   "cell_type": "code",
   "execution_count": 17,
   "metadata": {},
   "outputs": [
    {
     "data": {
      "text/plain": [
       "3.002452941630013"
      ]
     },
     "execution_count": 17,
     "metadata": {},
     "output_type": "execute_result"
    }
   ],
   "source": [
    "a2=quemaymedia(x2, bur)\n",
    "a2"
   ]
  },
  {
   "cell_type": "code",
   "execution_count": 18,
   "metadata": {},
   "outputs": [
    {
     "data": {
      "text/plain": [
       "3.0018202270657333"
      ]
     },
     "execution_count": 18,
     "metadata": {},
     "output_type": "execute_result"
    }
   ],
   "source": [
    "a3=quemaymedia(x3, bur)\n",
    "a3"
   ]
  },
  {
   "cell_type": "code",
   "execution_count": 19,
   "metadata": {},
   "outputs": [
    {
     "data": {
      "text/plain": [
       "3.0026248145169405"
      ]
     },
     "execution_count": 19,
     "metadata": {},
     "output_type": "execute_result"
    }
   ],
   "source": [
    "a4=quemaymedia(x4, bur)\n",
    "a4"
   ]
  },
  {
   "cell_type": "code",
   "execution_count": 20,
   "metadata": {},
   "outputs": [
    {
     "data": {
      "text/plain": [
       "3.0066739009699184"
      ]
     },
     "execution_count": 20,
     "metadata": {},
     "output_type": "execute_result"
    }
   ],
   "source": [
    "a5=quemaymedia(x5, bur)\n",
    "a5"
   ]
  },
  {
   "cell_type": "code",
   "execution_count": 21,
   "metadata": {},
   "outputs": [
    {
     "data": {
      "text/plain": [
       "3.006277953250252"
      ]
     },
     "execution_count": 21,
     "metadata": {},
     "output_type": "execute_result"
    }
   ],
   "source": [
    "a6=quemaymedia(x6, bur)\n",
    "a6"
   ]
  },
  {
   "cell_type": "code",
   "execution_count": 22,
   "metadata": {},
   "outputs": [
    {
     "data": {
      "text/plain": [
       "3.00571675086924"
      ]
     },
     "execution_count": 22,
     "metadata": {},
     "output_type": "execute_result"
    }
   ],
   "source": [
    "a7=quemaymedia(x7, bur)\n",
    "a7"
   ]
  },
  {
   "cell_type": "code",
   "execution_count": 23,
   "metadata": {},
   "outputs": [
    {
     "data": {
      "text/plain": [
       "3.0038002618241526"
      ]
     },
     "execution_count": 23,
     "metadata": {},
     "output_type": "execute_result"
    }
   ],
   "source": [
    "a8=quemaymedia(x8, bur)\n",
    "a8"
   ]
  },
  {
   "cell_type": "markdown",
   "metadata": {},
   "source": [
    "Media entre los 8 caminadores"
   ]
  },
  {
   "cell_type": "code",
   "execution_count": 24,
   "metadata": {},
   "outputs": [
    {
     "data": {
      "text/plain": [
       "3.004025575036204"
      ]
     },
     "execution_count": 24,
     "metadata": {},
     "output_type": "execute_result"
    }
   ],
   "source": [
    "np.mean([a1, a2, a3, a4, a5, a6, a7, a8])"
   ]
  },
  {
   "cell_type": "markdown",
   "metadata": {},
   "source": [
    "#### Valores para 'b'"
   ]
  },
  {
   "cell_type": "code",
   "execution_count": 25,
   "metadata": {},
   "outputs": [
    {
     "data": {
      "text/plain": [
       "1.9947480717775001"
      ]
     },
     "execution_count": 25,
     "metadata": {},
     "output_type": "execute_result"
    }
   ],
   "source": [
    "b1=quemaymedia(y1, bur)\n",
    "b1"
   ]
  },
  {
   "cell_type": "code",
   "execution_count": 26,
   "metadata": {},
   "outputs": [
    {
     "data": {
      "text/plain": [
       "1.9954428192436182"
      ]
     },
     "execution_count": 26,
     "metadata": {},
     "output_type": "execute_result"
    }
   ],
   "source": [
    "b2=quemaymedia(y2, bur)\n",
    "b2"
   ]
  },
  {
   "cell_type": "code",
   "execution_count": 27,
   "metadata": {},
   "outputs": [
    {
     "data": {
      "text/plain": [
       "1.996405691395618"
      ]
     },
     "execution_count": 27,
     "metadata": {},
     "output_type": "execute_result"
    }
   ],
   "source": [
    "b3=quemaymedia(y3, bur)\n",
    "b3"
   ]
  },
  {
   "cell_type": "code",
   "execution_count": 28,
   "metadata": {},
   "outputs": [
    {
     "data": {
      "text/plain": [
       "1.9951449974098472"
      ]
     },
     "execution_count": 28,
     "metadata": {},
     "output_type": "execute_result"
    }
   ],
   "source": [
    "b4=quemaymedia(y4, bur)\n",
    "b4"
   ]
  },
  {
   "cell_type": "code",
   "execution_count": 29,
   "metadata": {},
   "outputs": [
    {
     "data": {
      "text/plain": [
       "1.9879903585570355"
      ]
     },
     "execution_count": 29,
     "metadata": {},
     "output_type": "execute_result"
    }
   ],
   "source": [
    "b5=quemaymedia(y5, bur)\n",
    "b5"
   ]
  },
  {
   "cell_type": "code",
   "execution_count": 30,
   "metadata": {},
   "outputs": [
    {
     "data": {
      "text/plain": [
       "1.9888199286552528"
      ]
     },
     "execution_count": 30,
     "metadata": {},
     "output_type": "execute_result"
    }
   ],
   "source": [
    "b6=quemaymedia(y6, bur)\n",
    "b6"
   ]
  },
  {
   "cell_type": "code",
   "execution_count": 31,
   "metadata": {},
   "outputs": [
    {
     "data": {
      "text/plain": [
       "1.989760182731006"
      ]
     },
     "execution_count": 31,
     "metadata": {},
     "output_type": "execute_result"
    }
   ],
   "source": [
    "b7=quemaymedia(y7, bur)\n",
    "b7"
   ]
  },
  {
   "cell_type": "code",
   "execution_count": 32,
   "metadata": {},
   "outputs": [
    {
     "data": {
      "text/plain": [
       "1.993134130482157"
      ]
     },
     "execution_count": 32,
     "metadata": {},
     "output_type": "execute_result"
    }
   ],
   "source": [
    "b8=quemaymedia(y8, bur)\n",
    "b8"
   ]
  },
  {
   "cell_type": "markdown",
   "metadata": {},
   "source": [
    "Media entre los 8 caminadores"
   ]
  },
  {
   "cell_type": "code",
   "execution_count": 33,
   "metadata": {},
   "outputs": [
    {
     "data": {
      "text/plain": [
       "1.9926807725315043"
      ]
     },
     "execution_count": 33,
     "metadata": {},
     "output_type": "execute_result"
    }
   ],
   "source": [
    "np.mean([b1, b2, b3, b4, b5, b6, b7, b8])"
   ]
  },
  {
   "cell_type": "code",
   "execution_count": null,
   "metadata": {},
   "outputs": [],
   "source": []
  },
  {
   "cell_type": "code",
   "execution_count": null,
   "metadata": {},
   "outputs": [],
   "source": []
  }
 ],
 "metadata": {
  "kernelspec": {
   "display_name": "Python 3",
   "language": "python",
   "name": "python3"
  },
  "language_info": {
   "codemirror_mode": {
    "name": "ipython",
    "version": 3
   },
   "file_extension": ".py",
   "mimetype": "text/x-python",
   "name": "python",
   "nbconvert_exporter": "python",
   "pygments_lexer": "ipython3",
   "version": "3.6.5"
  }
 },
 "nbformat": 4,
 "nbformat_minor": 2
}
